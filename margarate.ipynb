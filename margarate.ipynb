{
  "nbformat": 4,
  "nbformat_minor": 0,
  "metadata": {
    "colab": {
      "name": "karun.ipynb",
      "provenance": []
    },
    "kernelspec": {
      "name": "python3",
      "display_name": "Python 3"
    },
    "language_info": {
      "name": "python"
    }
  },
  "cells": [
    {
      "cell_type": "markdown",
      "source": [
        "1.Write a python function which should be capable of finding the factorial of any given number as an argument.\n",
        "\n",
        "\n",
        "---\n",
        "\n"
      ],
      "metadata": {
        "id": "_A-Ms2dI1lTC"
      }
    },
    {
      "cell_type": "code",
      "source": [
        "def factorial(n):\n",
        "    if n == 0:\n",
        "        return 1\n",
        "    else:\n",
        "        return n * factorial(n-1)\n",
        "n=int(input(\"Input a number to compute the factiorial : \"))\n",
        "print(factorial(n))"
      ],
      "metadata": {
        "colab": {
          "base_uri": "https://localhost:8080/",
          "height": 0
        },
        "id": "zqYu5cRx1i0U",
        "outputId": "8381e451-1551-4a8f-88f7-19e55f93eafd"
      },
      "execution_count": 13,
      "outputs": [
        {
          "output_type": "stream",
          "name": "stdout",
          "text": [
            "Input a number to compute the factiorial : 5\n",
            "120\n"
          ]
        }
      ]
    },
    {
      "cell_type": "markdown",
      "source": [
        "2. Luke Skywalker has family and friends. Help him remind them who is who. Given a string with a\n",
        "name, return the relation of that person to Luke.\n",
        "\n",
        "---\n",
        "\n"
      ],
      "metadata": {
        "id": "Nbfo1EkG10O_"
      }
    },
    {
      "cell_type": "code",
      "source": [
        "dict={\n",
        "    'Darth Vader': 'father',\n",
        "    'Leia':'sister',\n",
        "    'Han':'brother in law',\n",
        "    'R2D2' : 'driod'\n",
        "}\n",
        "def relation_to_luke(k):\n",
        "  print(\"Luke,I am your {0}\".format(dict[k]))\n",
        "s=input()\n",
        "#print(s)\n",
        "relation_to_luke(s)\n",
        "\n"
      ],
      "metadata": {
        "colab": {
          "base_uri": "https://localhost:8080/",
          "height": 0
        },
        "id": "GATmVf8h11OC",
        "outputId": "44a5a0c6-9eba-46de-8385-ccb636ec5bbb"
      },
      "execution_count": 17,
      "outputs": [
        {
          "output_type": "stream",
          "name": "stdout",
          "text": [
            "Darth Vader\n",
            "Luke,I am your father\n"
          ]
        }
      ]
    },
    {
      "cell_type": "markdown",
      "source": [
        "3. Create a function which takes a number as its argument and return the number of digits in it. Use\n",
        "of len function is not allowed. For example for 5 it should return 1, for 32 it should return 2 and 123 ,\n",
        "3 should be returned and so on.\n",
        "\n",
        "\n",
        "---\n",
        "\n"
      ],
      "metadata": {
        "id": "shpvsOOE4lRq"
      }
    },
    {
      "cell_type": "code",
      "source": [
        "n=input()\n",
        "\n",
        "def count(n):\n",
        "    c=0\n",
        "    for i in n:\n",
        "        c+=1\n",
        "    return c\n",
        "\n",
        "print(count(n))"
      ],
      "metadata": {
        "colab": {
          "base_uri": "https://localhost:8080/",
          "height": 0
        },
        "id": "OUVQb0Nb4l1w",
        "outputId": "7e8cab94-0020-4e65-928d-dd05485e7f5f"
      },
      "execution_count": 20,
      "outputs": [
        {
          "output_type": "stream",
          "name": "stdout",
          "text": [
            "6320\n",
            "4\n"
          ]
        }
      ]
    },
    {
      "cell_type": "markdown",
      "source": [
        "\n",
        "4. Write a function which takes a number as argument suppose 5 and gives results as multiplication\n",
        "of factorial of each positive number less than or equal to the number given. i.e !5*!4*!3*!2*!1 = 34560 \n",
        "\n",
        "\n",
        "---\n",
        "\n"
      ],
      "metadata": {
        "id": "9d_28GN044hV"
      }
    },
    {
      "cell_type": "code",
      "source": [
        "import math\n",
        "def factorial(n):\n",
        "    return(math.factorial(n))\n",
        " \n",
        "l = []\n",
        "num = int(input(\"Please enter number:\"))\n",
        "for i in range(1,num+1):\n",
        "    res = factorial(i)\n",
        "    l.append(res)\n",
        "\n",
        "ans = math.prod(l)\n",
        "print(ans)"
      ],
      "metadata": {
        "colab": {
          "base_uri": "https://localhost:8080/",
          "height": 235
        },
        "id": "M5o2v82145Hg",
        "outputId": "6ba45faa-e80a-4403-f61a-2666d0671ea6"
      },
      "execution_count": 26,
      "outputs": [
        {
          "name": "stdout",
          "output_type": "stream",
          "text": [
            "Please enter number:5\n"
          ]
        },
        {
          "output_type": "error",
          "ename": "AttributeError",
          "evalue": "ignored",
          "traceback": [
            "\u001b[0;31m---------------------------------------------------------------------------\u001b[0m",
            "\u001b[0;31mAttributeError\u001b[0m                            Traceback (most recent call last)",
            "\u001b[0;32m<ipython-input-26-f47f52676b37>\u001b[0m in \u001b[0;36m<module>\u001b[0;34m()\u001b[0m\n\u001b[1;32m      9\u001b[0m     \u001b[0ml\u001b[0m\u001b[0;34m.\u001b[0m\u001b[0mappend\u001b[0m\u001b[0;34m(\u001b[0m\u001b[0mres\u001b[0m\u001b[0;34m)\u001b[0m\u001b[0;34m\u001b[0m\u001b[0;34m\u001b[0m\u001b[0m\n\u001b[1;32m     10\u001b[0m \u001b[0;34m\u001b[0m\u001b[0m\n\u001b[0;32m---> 11\u001b[0;31m \u001b[0mans\u001b[0m \u001b[0;34m=\u001b[0m \u001b[0mmath\u001b[0m\u001b[0;34m.\u001b[0m\u001b[0mprod\u001b[0m\u001b[0;34m(\u001b[0m\u001b[0ml\u001b[0m\u001b[0;34m)\u001b[0m\u001b[0;34m\u001b[0m\u001b[0;34m\u001b[0m\u001b[0m\n\u001b[0m\u001b[1;32m     12\u001b[0m \u001b[0mprint\u001b[0m\u001b[0;34m(\u001b[0m\u001b[0mans\u001b[0m\u001b[0;34m)\u001b[0m\u001b[0;34m\u001b[0m\u001b[0;34m\u001b[0m\u001b[0m\n",
            "\u001b[0;31mAttributeError\u001b[0m: module 'math' has no attribute 'prod'"
          ]
        }
      ]
    },
    {
      "cell_type": "markdown",
      "source": [
        "5. Write a function which takes any number of arguments from a user and return the result which\n",
        "should be output of a2 + b2+ c2+… if a , b ,c are numbers supplied ..i.e if 1,2,3 are supplied then result\n",
        "returned should be 14. But user may supply any number of inputs so make the function to adapt to\n",
        "that.\n",
        "---\n",
        "\n"
      ],
      "metadata": {
        "id": "bgIAMLL65S30"
      }
    },
    {
      "cell_type": "code",
      "source": [
        "l=list(map(int,input().split()))\n",
        "def result(l):\n",
        "    s=0\n",
        "    for i in l:\n",
        "        s+=i**2\n",
        "    return s\n",
        "print(result(l))"
      ],
      "metadata": {
        "colab": {
          "base_uri": "https://localhost:8080/",
          "height": 0
        },
        "id": "I78ZDM43s0t5",
        "outputId": "ebb2a390-967b-4d7f-db1a-e990c382d185"
      },
      "execution_count": 22,
      "outputs": [
        {
          "output_type": "stream",
          "name": "stdout",
          "text": [
            "1 2 3\n",
            "14\n"
          ]
        }
      ]
    },
    {
      "cell_type": "markdown",
      "source": [
        "6.Write a function which accepts 3 arguments from the user.1 .number 1, 2. Number2 and 3. An\n",
        "operation. The operation supported should be +, -, *, and /. The function should return the result of\n",
        "given operation. For example arguments are 3,2,+ then result returned should be 5.\n",
        "\n",
        "\n",
        "---\n",
        "\n"
      ],
      "metadata": {
        "id": "1VxCfyhO52Aj"
      }
    },
    {
      "cell_type": "code",
      "source": [
        "\n",
        "a,b,c=map(str,input().split())\n",
        "def result(a,b,c):\n",
        "    if c=='+':\n",
        "        return a+b\n",
        "    elif c=='-':\n",
        "        return a-b\n",
        "    elif c=='/':\n",
        "        return a/b\n",
        "    else:\n",
        "        return a*b\n",
        "print(result(int(a),int(b),c))"
      ],
      "metadata": {
        "colab": {
          "base_uri": "https://localhost:8080/",
          "height": 0
        },
        "id": "5kNlz6jm53H2",
        "outputId": "d22f3803-faa7-4e6b-9bc9-efabed47e742"
      },
      "execution_count": 23,
      "outputs": [
        {
          "output_type": "stream",
          "name": "stdout",
          "text": [
            "1 2 +\n",
            "3\n"
          ]
        }
      ]
    },
    {
      "cell_type": "markdown",
      "source": [
        "7. Write a function which takes an argument which should be a numeric +ve integer. Depending on\n",
        "the input supplied you have to print “I CAN”, “I WILL”. Suppose some one enters argument as 1 then\n",
        "only “I CAN” should be printed. But if some one enters 2 then first “I CAN” should be printed then “I\n",
        "WILL”. And if someone enters 3 then following should be printed in corresponding order: “I CAN”, “I\n",
        "WILL”, “I CAN” and so on for any numbers entered.\n",
        "\n",
        "\n",
        "---\n",
        "\n"
      ],
      "metadata": {
        "id": "FT3psUcX6Kb4"
      }
    },
    {
      "cell_type": "code",
      "source": [
        "n = int(input(\"Please enter number:\"))\n",
        "for i in range(0,n):\n",
        "    if(i%2!=0):\n",
        "        print(\"I WILL\")\n",
        "    else:\n",
        "        print(\"I CAN\")"
      ],
      "metadata": {
        "colab": {
          "base_uri": "https://localhost:8080/",
          "height": 0
        },
        "id": "v8OKrusg6LJA",
        "outputId": "bc6f08a5-ed01-4112-ede7-50c3e2b6ad4c"
      },
      "execution_count": 24,
      "outputs": [
        {
          "output_type": "stream",
          "name": "stdout",
          "text": [
            "Please enter number:4\n",
            "I CAN\n",
            "I WILL\n",
            "I CAN\n",
            "I WILL\n"
          ]
        }
      ]
    },
    {
      "cell_type": "markdown",
      "source": [
        "8. We have been given a list of whole numbers which represents the color of each gloves, determine\n",
        "how many pairs of gloves with matching colors there are. For example, there are 7 gloves with\n",
        "colors [1, 2, 1, 2, 1, 3, 2]. There is one pair of color 1 and one of color 2. There are three odd gloves\n",
        "left, one of each color. The number of pairs is 2. Create a function that returns an integer representing\n",
        "the number of matching pairs of gloves that are available.\n",
        "\n",
        "---\n",
        "\n"
      ],
      "metadata": {
        "id": "5YmEZEjk6UUy"
      }
    },
    {
      "cell_type": "code",
      "source": [
        "a = list(map(int,input().strip().split()))\n",
        "dict = {}\n",
        "for i in a:\n",
        "    if i in dict.keys():\n",
        "        dict[i] = dict[i]+1\n",
        "    else:\n",
        "        dict[i] = 1\n",
        "cnt = 0;\n",
        "for d in dict:\n",
        "    k = dict[d]\n",
        "    if(k%2 != 0):\n",
        "       cnt=cnt+1\n",
        "print((len(a)-cnt)//2);"
      ],
      "metadata": {
        "colab": {
          "base_uri": "https://localhost:8080/",
          "height": 0
        },
        "id": "Qb5jhYbYrgJT",
        "outputId": "b96c35d9-e403-4431-eb47-9b80a228c5b5"
      },
      "execution_count": 6,
      "outputs": [
        {
          "output_type": "stream",
          "name": "stdout",
          "text": [
            "1 2 1 2 1 3 2\n",
            "2\n"
          ]
        }
      ]
    },
    {
      "cell_type": "markdown",
      "source": [
        "9. Write a function that returns True if two arrays, when combined, form a consecutive sequence. A\n",
        "consecutive sequence is a sequence without any gaps in the integers, e.g. 1, 2, 3, 4, 5 is a\n",
        "consecutive sequence, but 1, 2, 4, 5 is not. Notes\n",
        "\n",
        "\n",
        "---\n",
        "\n"
      ],
      "metadata": {
        "id": "5tr1SMYD6eDn"
      }
    },
    {
      "cell_type": "code",
      "source": [
        "def checkConsecutive(l):\n",
        "    return sorted(l) == list(range(min(l), max(l)+1))\n",
        "a = list(map(int,input().strip().split()))\n",
        "b = list(map(int,input().strip().split()))\n",
        "c = a+b;\n",
        "print(checkConsecutive(c))"
      ],
      "metadata": {
        "colab": {
          "base_uri": "https://localhost:8080/",
          "height": 0
        },
        "id": "exKtPBjCsCRB",
        "outputId": "3ac962c8-cd09-454f-ccd3-ed651112e153"
      },
      "execution_count": 7,
      "outputs": [
        {
          "output_type": "stream",
          "name": "stdout",
          "text": [
            "7 4 5 1\n",
            "2 3 6\n",
            "True\n"
          ]
        }
      ]
    },
    {
      "cell_type": "markdown",
      "source": [
        "10. You work for a manufacturer, and have been asked to calculate the total profit made on the sales\n",
        "of a product. You are given a dictionary containing the cost price per unit (in dollars), sell price per\n",
        "unit (in dollars), and the starting inventory. Return the total profit made, rounded to the nearest\n",
        "dollar.\n",
        "\n",
        "\n",
        "---\n",
        "\n"
      ],
      "metadata": {
        "id": "TV4OyaX76lIX"
      }
    },
    {
      "cell_type": "code",
      "source": [
        "a = list(map(float,input().strip().split()))\n",
        "dict ={\n",
        "    'cost_price':a[0],\n",
        "    'sell_price':a[1],\n",
        "    'inventory':a[2]\n",
        "}\n",
        "k = int((dict['sell_price']-dict['cost_price'])*dict['inventory'])\n",
        "print(k)"
      ],
      "metadata": {
        "colab": {
          "base_uri": "https://localhost:8080/",
          "height": 0
        },
        "id": "V-x2dNEosPgN",
        "outputId": "06ac779a-fe4e-4788-833d-f1c707718907"
      },
      "execution_count": 8,
      "outputs": [
        {
          "output_type": "stream",
          "name": "stdout",
          "text": [
            "32.67 45 1200\n",
            "14795\n"
          ]
        }
      ]
    },
    {
      "cell_type": "code",
      "source": [
        ""
      ],
      "metadata": {
        "id": "KoqA7aqRsZoA"
      },
      "execution_count": null,
      "outputs": []
    }
  ]
}